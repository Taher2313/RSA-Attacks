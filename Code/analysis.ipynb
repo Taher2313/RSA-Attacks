{
 "cells": [
  {
   "cell_type": "code",
   "execution_count": null,
   "metadata": {},
   "outputs": [],
   "source": [
    "import numpy as np\n",
    "import utils\n",
    "import time\n",
    "import matplotlib.pyplot as plt\n",
    "import pickle\n"
   ]
  },
  {
   "cell_type": "markdown",
   "metadata": {},
   "source": [
    "# Encryption Performance"
   ]
  },
  {
   "cell_type": "code",
   "execution_count": null,
   "metadata": {},
   "outputs": [],
   "source": [
    "bits = np.arange(100, 2048, 1)\n",
    "encrypt_time = np.zeros(len(bits))\n",
    "message = \"Hello World\"\n",
    "\n",
    "for i in range(len(bits)):\n",
    "    n, e, d, p, q = utils.generate_keys_bits(bits[i])\n",
    "    start = time.time_ns()\n",
    "    encryptedMsg = utils.Encrypt(message, n, e)\n",
    "    stop = time.time_ns()\n",
    "    encrypt_time[i] = stop - start\n",
    "    decryptedMsg = utils.Decrypt(encryptedMsg, n, d)\n",
    "    if decryptedMsg != message:\n",
    "        print(\"Error\")\n",
    "        break\n",
    "\n",
    "print(\"Done\")\n"
   ]
  },
  {
   "cell_type": "code",
   "execution_count": null,
   "metadata": {},
   "outputs": [],
   "source": [
    "# pickle.dump(encrypt_time, open(\"encrypt_time.p\", \"wb\"))\n",
    "# pickle.dump(bits, open(\"bits\", \"wb\"))\n",
    "\n",
    "encrypt_time = pickle.load(open(\"encrypt_time.p\", \"rb\"))\n",
    "bits = pickle.load(open(\"bits.p\", \"rb\"))\n"
   ]
  },
  {
   "cell_type": "code",
   "execution_count": null,
   "metadata": {},
   "outputs": [],
   "source": [
    "plt.plot(bits, encrypt_time, label=\"Encrypt\")\n",
    "plt.xlabel(\"Bits\")\n",
    "plt.ylabel(\"Time (ns)\")\n",
    "plt.title(\"Encryption Time\")\n"
   ]
  },
  {
   "cell_type": "markdown",
   "metadata": {},
   "source": [
    "# Brute Force Attack"
   ]
  },
  {
   "cell_type": "code",
   "execution_count": null,
   "metadata": {},
   "outputs": [],
   "source": [
    "bits = np.arange(8, 60, 1)\n",
    "attack_time = np.zeros(len(bits))\n",
    "\n",
    "for i in range(len(bits)):\n",
    "    n, e, d, p, q = utils.generate_keys_bits(bits[i])\n",
    "    start = time.time_ns()\n",
    "    p_n, q_n = utils.Find_p_q(n)\n",
    "    stop = time.time_ns()\n",
    "    attack_time[i] = stop - start\n",
    "    if p_n != p and p_n != q or q_n != q and q_n != p:\n",
    "        print(\"Error\")\n",
    "        break\n",
    "\n",
    "print(\"Done\")\n"
   ]
  },
  {
   "cell_type": "code",
   "execution_count": null,
   "metadata": {},
   "outputs": [],
   "source": [
    "# pickle.dump(attack_time, open(\"attack_time_1.p\", \"wb\"))\n",
    "# pickle.dump(bits, open(\"bits_attack_1\", \"wb\"))\n",
    "\n",
    "bits_attack = pickle.load(open(\"bits_attack.p\", \"rb\"))\n",
    "attack_time = pickle.load(open(\"attack_time.p\", \"rb\"))\n"
   ]
  },
  {
   "cell_type": "code",
   "execution_count": null,
   "metadata": {},
   "outputs": [],
   "source": [
    "plt.plot(bits_attack, attack_time, label=\"Brute Force Attack\")\n",
    "plt.xlabel(\"Bits\")\n",
    "plt.ylabel(\"Time (ns)\")\n",
    "plt.title(\"Brute Force Attack Time\")\n"
   ]
  },
  {
   "cell_type": "markdown",
   "metadata": {},
   "source": [
    "## Chosen Ciphertext Attack"
   ]
  },
  {
   "cell_type": "code",
   "execution_count": null,
   "metadata": {},
   "outputs": [],
   "source": [
    "# receiver\n",
    "n1, e1, d1, p1, q1 = utils.generate_keys()\n",
    "message = \"This message is confidential\""
   ]
  },
  {
   "cell_type": "code",
   "execution_count": null,
   "metadata": {},
   "outputs": [],
   "source": [
    "c = utils.Encrypt(message, n1, e1)\n",
    "hacked_message = utils.Chosen_Ciphertext_Attack(p1, q1, e1, c)\n",
    "print(hacked_message)\n"
   ]
  }
 ],
 "metadata": {
  "interpreter": {
   "hash": "dfdc534f9d079ae759dd31998cbdb64fa0f5664494eaf9e34555103a4b77eae0"
  },
  "kernelspec": {
   "display_name": "Python 3.9.5 ('base')",
   "language": "python",
   "name": "python3"
  },
  "language_info": {
   "codemirror_mode": {
    "name": "ipython",
    "version": 3
   },
   "file_extension": ".py",
   "mimetype": "text/x-python",
   "name": "python",
   "nbconvert_exporter": "python",
   "pygments_lexer": "ipython3",
   "version": "3.9.5"
  },
  "orig_nbformat": 4
 },
 "nbformat": 4,
 "nbformat_minor": 2
}
